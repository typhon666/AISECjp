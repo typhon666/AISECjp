{
 "cells": [
  {
   "cell_type": "markdown",
   "metadata": {},
   "source": [
    "# 第４章　パーセプトロン: 分類アルゴリズムの基礎\n",
    "---\n",
    "分類アルゴリズムの基礎となる**パーセプトロン**を取り上げる。\n",
    "> keyword: **誤差関数**, **確率的勾配降下法**\n",
    "\n",
    "* 本日のタスク  \n",
    "$t = \\pm1$の2種類の属性を持つデータを分類する**直線**を発見する。  \n",
    "![データの分類](today_task.png)\n",
    "\n",
    "---\n",
    "## 4.1 確率的勾配降下法のアルゴリズム\n",
    "パーセプトロンは**誤差関数**を用いた計算方法。  \n",
    "以下の3つの手順で分類を行う。\n",
    "\n",
    "1. パラメーターを含むモデル（数式）を設定。\n",
    "2. パラメーターを評価する基準の決定。\n",
    "3. 最良の評価を与えるパラメーターの決定。\n",
    "\n",
    "### 4.1.1 平面を分割する直線の方程式\n",
    "ステップ1として、パラメーターを含むモデル（数式）を用意する。  \n",
    "  \n",
    "\\begin{equation}\n",
    "\\\\\n",
    "  f(x, y) = w_0 + w_1x + w_2y\n",
    "\\\\\n",
    "\\end{equation}\n",
    "  \n",
    "この時、$(x,y)$平面を分割する直線（**境界線**）は、次式で表される。\n",
    "  \n",
    "\\begin{equation}\n",
    "\\\\\n",
    "f(x,y) = 0\n",
    "\\\\\n",
    "\\end{equation}\n",
    "\n",
    "分割された2つの領域は、**$f(x,y)$の符号で判別**できるようになる。  \n",
    "\n",
    "具体例として、$f(x,y) = -10 + 3x + 2y$の場合を示す。  \n",
    "以下のように、境界線から離れるほど、$f(x,y)$の絶対値が大きくなるという特徴が読み取れる。\n",
    "\n",
    "[$f(x,y) < 0$]\n",
    "* $(-8,2)$の場合:$f(x,y) = -30$\n",
    "* $(-5,5)$の場合:$f(x,y) = -15$\n",
    "\n",
    "[$f(x,y) = 0$]\n",
    "* $(0, 5)$の場合:$f(x,y) = 0$\n",
    "\n",
    "[$f(x,y) > 0$]\n",
    "* $(5, 5)$の場合:$f(x,y) = 15$\n",
    "* $(4,14)$の場合:$f(x,y) = 30$\n",
    "\n",
    "$(x,y)$平面をこのように分割する目的は、$t = \\pm1$の2種類の属性を持つデータを分類すること。  \n",
    "今回は以下のルールでデータを分類することにする。\n",
    "\n",
    "\\begin{eqnarray}\n",
    "\\\\\n",
    "f(x,y) > 0 \\Rightarrow t = +1 \\\\\n",
    "f(x,y) < 0 \\Rightarrow t = -1\n",
    "\\\\\n",
    "\\end{eqnarray}\n",
    "\n",
    "この時、トレーニング用のデータ$\\{(x_n,y_n,t_n)\\}^{N}_{n=1}$に対し、それぞれ正しく分類されているかどうかは、以下のルールで判定できる。\n",
    "\n",
    "\\begin{eqnarray}\n",
    "\\\\\n",
    "f(x_n,y_n) \\times t_n > 0 : 正解 \\\\\n",
    "f(x_n,y_n) \\times t_n \\leq 0 : 不正解\n",
    "\\\\\n",
    "\\end{eqnarray}\n",
    "\n",
    "このルールを使うことで、$t_n = \\pm1$のどちらのデータについても、**同じルールで正解／不正解が判定できる**。  \n",
    "\n",
    "すべてのトレーニング用データ「$(x_n,y_n,t_n)$」について、$f(x_n,y_n) \\times t_n > 0$が成り立つ直線、つまり、**$f(x, y) = w_0 + w_1x + w_2y$の係数$(w_0,w_1,w_2)$を見つけること**が目標となる。"
   ]
  },
  {
   "cell_type": "markdown",
   "metadata": {},
   "source": [
    "### 4.1.2 誤差関数による分類結果の評価\n",
    "パラメータの評価基準として、正しく分類できなかった点が存在する場合、それを**誤差**として計算する。  \n",
    "この誤差の合計値が小さいほど、正しい分類に近いものと考える。  \n",
    "\n",
    "具体的な誤差の値とは「境界線から離れるほど、$f(x,y)$の絶対値が大きくなる」という特徴を利用し、以下の値を採用する。  \n",
    "\n",
    "\\begin{eqnarray}\n",
    "\\\\\n",
    "E_n = |f(x_n,y_n)|\n",
    "\\\\\n",
    "\\end{eqnarray}\n",
    "\n",
    "誤って分類された点の誤差を合計したものが、分類の誤差$E$となる。  \n",
    "\n",
    "\\begin{eqnarray}\n",
    "\\\\\n",
    "E = \\sum_nE_n = \\sum_n|f(x_n,y_n)|\n",
    "\\\\\n",
    "\\end{eqnarray}\n",
    "\n",
    "上記式は不正解時のルール「$f(x_n,y_n) \\times t_n \\leq 0$」を満たすので、次の関係式が成り立つ。  \n",
    "\n",
    "\\begin{eqnarray}\n",
    "\\\\\n",
    "|f(x_n,y_n)| = -f(x_n,y_n) \\times t_n\n",
    "\\\\\n",
    "\\end{eqnarray}\n",
    "\n",
    "さらに、$f(x,y)$の定義「$f(x, y) = w_0 + w_1x + w_2y$」を用いると、「$E = \\sum_nE_n = \\sum_n|f(x_n,y_n)|$」は以下のように表される。  \n",
    "\n",
    "\\begin{eqnarray}\n",
    "\\\\\n",
    "E = -\\sum_n(w_0 + w_1x_n + w_2y_n)t_n\n",
    "\\\\\n",
    "\\end{eqnarray}\n",
    "\n",
    "これをベクトルで表現すると以下のように表される。  \n",
    "\n",
    "\\begin{eqnarray}\n",
    "\\\\\n",
    "E = -\\sum_nt_n\\omega^T\\Phi_n\n",
    "\\\\\n",
    "\\end{eqnarray}\n",
    "\n",
    "$\\omega$と$\\Phi$は次で定義される**ベクトル**になる。\n",
    "\n",
    "\\begin{eqnarray}\n",
    "\\\\\n",
    "  {\\omega} = \\left(\n",
    "    \\begin{array}{c}\n",
    "      w_0 \\\\\n",
    "      w_1 \\\\\n",
    "      w_2\n",
    "    \\end{array}\n",
    "  \\right)\n",
    "\\\\\n",
    "\\end{eqnarray}\n",
    "\n",
    "\\begin{eqnarray}\n",
    "\\\\\n",
    "  {\\Phi} = \\left(\n",
    "    \\begin{array}{c}\n",
    "      1 \\\\\n",
    "      x_n \\\\\n",
    "      y_n\n",
    "    \\end{array}\n",
    "  \\right)\n",
    "\\\\\n",
    "\\end{eqnarray}\n",
    "\n",
    "ベクトル$\\Phi$の「1」は**バイアス項**と呼ばれ、ベクトル形式で表すために導入される。  \n",
    "※バイアス項は後述の「アルゴリズムの収束性」に深く関係する。  \n",
    "\n",
    "誤差$E$が小さくなるほど、トレーニングセットは適切に分類されていると考えることができる。  \n",
    "すべてのデータが正しく分類できた場合は、$E = 0$になる。  \n",
    "\n",
    "最後のステップは、誤差$E$を最小にするためのパラメータ$\\omega$を求めること。  \n",
    "このために、**確率的勾配降下法**を使用する。"
   ]
  },
  {
   "cell_type": "markdown",
   "metadata": {},
   "source": [
    "### 4.1.3 勾配ベクトルによるパラメーターの修正\n",
    "\n",
    "最小二乗法では、パラメーターによる偏微分係数が0になるという条件から、二乗誤差$E_D$を最小にする係数$w$を決定することができた。  \n",
    "これと同様に、$E = -\\sum_n(w_0 + w_1x_n + w_2y_n)t_n$の誤差$E$の偏微分係数を0としてみる。\n",
    "\n",
    "\\begin{eqnarray}\n",
    "\\\\\n",
    "\\frac{\\partial E}{\\partial w_m} = 0 \\ \\ \\ (m = 0,1,2)\n",
    "\\\\\n",
    "\\end{eqnarray}\n",
    "\n",
    "または、勾配ベクトルが0になるとしても構わない。\n",
    "\n",
    "\\begin{eqnarray}\n",
    "\\\\\n",
    "\\nabla E(w) = - \\sum_n t_n \\Phi_n = 0\n",
    "\\\\\n",
    "\\end{eqnarray}\n",
    "\n",
    "一般的に勾配ベクトルは、以下の式で定義されるベクトルになる。\n",
    "\n",
    "\\begin{eqnarray}\n",
    "\\\\\n",
    "  \\nabla E(w) = \\left(\n",
    "    \\begin{array}{c}\n",
    "      \\frac{\\partial E}{\\partial w_0} \\\\\n",
    "      \\frac{\\partial E}{\\partial w_1} \\\\\n",
    "      \\frac{\\partial E}{\\partial w_2}\n",
    "    \\end{array}\n",
    "  \\right)\n",
    "\\\\\n",
    "\\end{eqnarray}\n",
    "\n",
    "上記の式を見てもわかる通り、この式の中には係数$w$は含まれていない。  \n",
    "よって、純粋な式変形で$w$を求めることはできない。  \n",
    "\n",
    "そこで、勾配ベクトルの幾何学的な性質を利用し、数値計算を用いて$w$の値を修正しながら、誤差$E$がなるべく小さくなるものを求める。  \n",
    "以下にとある誤差関数$E$の軌跡を表す。\n",
    "\n",
    "![誤差関数E](func_E.png)\n",
    "\n",
    "青い曲線が誤差関数$E$の軌跡を表している。  \n",
    "上図の通り、曲線の**底は誤差が殆ど無い地点**となり、その時の$w$は**最適化された係数（$w^{opt}$）**となる。  \n",
    "\n",
    "具体例として、次の関数を考える。  \n",
    "\n",
    "\\begin{eqnarray}\n",
    "\\\\\n",
    "w(x,y) = \\frac{3}{4}(x^{2} + y^{2})\n",
    "\\\\\n",
    "\\end{eqnarray}\n",
    "\n",
    "この場合、勾配ベクトルは次のように計算される。  \n",
    "\n",
    "\\begin{eqnarray}\n",
    "\\\\\n",
    "  \\nabla w = \\left(\n",
    "    \\begin{array}{c}\n",
    "      \\frac{\\partial w}{\\partial x} \\\\\n",
    "      \\frac{\\partial w}{\\partial y}\n",
    "    \\end{array}\n",
    "  \\right)\n",
    "  =\n",
    "  \\left(\n",
    "    \\begin{array}{c}\n",
    "      \\frac{3}{2}x \\\\\n",
    "      \\frac{3}{2}y\n",
    "    \\end{array}\n",
    "  \\right)\n",
    "\\\\\n",
    "\\end{eqnarray}\n",
    "\n",
    "この時、任意の点$(x,y)$において、どちらかの方向に少し移動すると$w$の値が増減する。  \n",
    "勾配ベクトル$\\nabla w$は、$w$の値が最も増加する方向、すなわち「斜面をまっすぐ這い上がる方向」を表す。  \n",
    "\n",
    "また、勾配ベクトルの大きさは、その点における斜面（接点）の傾きを表す。  \n",
    "つまり、各点における勾配ベクトルの方向に移動して行けば、$w(x,y)$の値はどんどん大きくなっていく。  \n",
    "\n",
    "逆に言うと、勾配ベクトルの反対方向に進めば、$w(x,y)$の値は小さくなる。  \n",
    "勾配ベクトルが$+ \\nabla w$の場合は曲線の底から離れる方向に向かい、逆に$- \\nabla w$の場合は曲線の底に近づいていく。  \n",
    "\n",
    "これは、現在の地点を$w_{old}$として、次の地点を$w_{new}$を以下の式で決定するアルゴリズムとして表現することができる。\n",
    "\n",
    "\\begin{eqnarray}\n",
    "\\\\\n",
    "w_{new} = w_{old} - \\nabla w\n",
    "\\\\\n",
    "\\end{eqnarray}\n",
    "\n",
    "これを何度も繰り返して座標$(x,y)$を更新していくと、どのようにして底に近づいて行くか想像してみる。  \n",
    "$\\nabla w$が大きすぎると、底を通り越して反対側の斜面に行ってしまうことがあるが、上手い具合に底に近くなるほど、$\\nabla w$の大きさは小さくなっていく。  \n",
    "底の上を行ったり来たりしながら徐々に底に近づいて行く。  \n",
    "そして、最終的に底にたどり着くと、その点での勾配ベクトルは0になるので、そこで停止することになる。\n",
    "\n",
    "![誤差関数E](func_E_2.png)\n",
    "\n",
    "> 確率的勾配降下法の**勾配降下**  \n",
    "> point : 現在の地点$w_{old}$から曲線の傾き(勾配)方向に転がり落ちていき、底(誤差が殆ど無い地点)を目指すイメージ。\n",
    "\n",
    "ところで、確率的勾配降下法の**確率的**とは、データからサンプリングを行って勾配ベクトルを計算することを意味している。  \n",
    "すなわち、正しく分類されていない点$(x_n,y_n)$をどれかひとつ選び、とりあえず、その分だけパラメーターを修正する。  \n",
    "さらに、修正された新しい$w$の下で、正しく分類されていない点をひとつ選び、同様にパラメーターを修正する。  \n",
    "\n",
    "このように「正しく分類されていない点」をランダムに選びながら、パラメーターを修正していくテクニックが「**確率的勾配降下法**」になる。  \n",
    "\n",
    "なお、全ての点を正しく分類する直線が存在しない場合、$w$の値はいつまでも変化を続ける。  \n",
    "よって、一定回数だけ処理を繰り返し、それでも正しく分類されない点が残る場合は、そこで処理を打ち切り、その時点の$w$を採用する。  \n",
    "このように処理を打ち切ることを**早期終了**と呼ばれ、パーセプトロンの重要なテクニックの一つになっている。"
   ]
  },
  {
   "cell_type": "markdown",
   "metadata": {},
   "source": [
    "### 4.1.4 サンプルコードによる確認\n",
    "#### 分類が容易なトレーニングセットの場合\n",
    "はじめに必要なモジュールをインポートする。  \n",
    "関数 multivariate_normal は、多次元の正規分布に従う乱数を生成するために利用する。"
   ]
  },
  {
   "cell_type": "code",
   "execution_count": 1,
   "metadata": {
    "collapsed": true
   },
   "outputs": [],
   "source": [
    "%matplotlib inline\n",
    "import numpy as np\n",
    "import matplotlib.pyplot as plt\n",
    "import pandas as pd\n",
    "from pandas import Series, DataFrame\n",
    "\n",
    "from numpy.random import multivariate_normal"
   ]
  },
  {
   "cell_type": "markdown",
   "metadata": {},
   "source": [
    "トレーニング用データを生成する関数を用意する。  \n",
    "平面上の○☓の2種類のデータについて、それぞれの「個数、中心座標、分散」を引数で指定する。"
   ]
  },
  {
   "cell_type": "code",
   "execution_count": 2,
   "metadata": {
    "collapsed": false
   },
   "outputs": [],
   "source": [
    "def prepare_dataset(n1, mu1, variance1, n2, mu2, variance2):\n",
    "    df1 = DataFrame(multivariate_normal(mu1, np.eye(2)*variance1 ,n1),\n",
    "                    columns=['x','y'])\n",
    "    df1['type'] = 1\n",
    "    df2 = DataFrame(multivariate_normal(mu2, np.eye(2)*variance2, n2),\n",
    "                    columns=['x','y'])\n",
    "    df2['type'] = -1\n",
    "    df = pd.concat([df1,df2], ignore_index=True)\n",
    "    df = df.reindex(np.random.permutation(df.index)).reset_index(drop=True)\n",
    "    return df"
   ]
  },
  {
   "cell_type": "markdown",
   "metadata": {},
   "source": [
    "実際にデータを作成する。  "
   ]
  },
  {
   "cell_type": "code",
   "execution_count": 3,
   "metadata": {
    "collapsed": false
   },
   "outputs": [],
   "source": [
    "train_set = prepare_dataset(20, [15,10], 15, 30, [0,0], 15)"
   ]
  },
  {
   "cell_type": "markdown",
   "metadata": {},
   "source": [
    "先頭から10個分のデータを確認する。  \n",
    "type=±1 がデータの種類に対応する。"
   ]
  },
  {
   "cell_type": "code",
   "execution_count": 4,
   "metadata": {
    "collapsed": false
   },
   "outputs": [
    {
     "data": {
      "text/html": [
       "<div>\n",
       "<table border=\"1\" class=\"dataframe\">\n",
       "  <thead>\n",
       "    <tr style=\"text-align: right;\">\n",
       "      <th></th>\n",
       "      <th>x</th>\n",
       "      <th>y</th>\n",
       "      <th>type</th>\n",
       "    </tr>\n",
       "  </thead>\n",
       "  <tbody>\n",
       "    <tr>\n",
       "      <th>0</th>\n",
       "      <td>-3.543299</td>\n",
       "      <td>-0.059333</td>\n",
       "      <td>-1</td>\n",
       "    </tr>\n",
       "    <tr>\n",
       "      <th>1</th>\n",
       "      <td>-1.810103</td>\n",
       "      <td>3.017212</td>\n",
       "      <td>-1</td>\n",
       "    </tr>\n",
       "    <tr>\n",
       "      <th>2</th>\n",
       "      <td>10.305565</td>\n",
       "      <td>9.901827</td>\n",
       "      <td>1</td>\n",
       "    </tr>\n",
       "    <tr>\n",
       "      <th>3</th>\n",
       "      <td>-4.824187</td>\n",
       "      <td>-0.099316</td>\n",
       "      <td>-1</td>\n",
       "    </tr>\n",
       "    <tr>\n",
       "      <th>4</th>\n",
       "      <td>20.162892</td>\n",
       "      <td>10.035364</td>\n",
       "      <td>1</td>\n",
       "    </tr>\n",
       "    <tr>\n",
       "      <th>5</th>\n",
       "      <td>2.967327</td>\n",
       "      <td>4.173751</td>\n",
       "      <td>-1</td>\n",
       "    </tr>\n",
       "    <tr>\n",
       "      <th>6</th>\n",
       "      <td>-7.305286</td>\n",
       "      <td>3.006287</td>\n",
       "      <td>-1</td>\n",
       "    </tr>\n",
       "    <tr>\n",
       "      <th>7</th>\n",
       "      <td>11.063963</td>\n",
       "      <td>8.432609</td>\n",
       "      <td>1</td>\n",
       "    </tr>\n",
       "    <tr>\n",
       "      <th>8</th>\n",
       "      <td>3.183854</td>\n",
       "      <td>-5.772162</td>\n",
       "      <td>-1</td>\n",
       "    </tr>\n",
       "    <tr>\n",
       "      <th>9</th>\n",
       "      <td>15.285785</td>\n",
       "      <td>7.316585</td>\n",
       "      <td>1</td>\n",
       "    </tr>\n",
       "  </tbody>\n",
       "</table>\n",
       "</div>"
      ],
      "text/plain": [
       "           x          y  type\n",
       "0  -3.543299  -0.059333    -1\n",
       "1  -1.810103   3.017212    -1\n",
       "2  10.305565   9.901827     1\n",
       "3  -4.824187  -0.099316    -1\n",
       "4  20.162892  10.035364     1\n",
       "5   2.967327   4.173751    -1\n",
       "6  -7.305286   3.006287    -1\n",
       "7  11.063963   8.432609     1\n",
       "8   3.183854  -5.772162    -1\n",
       "9  15.285785   7.316585     1"
      ]
     },
     "execution_count": 4,
     "metadata": {},
     "output_type": "execute_result"
    }
   ],
   "source": [
    "train_set[:10]"
   ]
  },
  {
   "cell_type": "markdown",
   "metadata": {},
   "source": [
    "パーセプトロンによる分類を実施する関数を用意する。  \n",
    "生成したトレーニングセットを引数で渡すと、30回のIterationを実施した後に、この間のパラメーターの変化を記録したリストと最終的な誤分類率を返す。"
   ]
  },
  {
   "cell_type": "code",
   "execution_count": 5,
   "metadata": {
    "collapsed": true
   },
   "outputs": [],
   "source": [
    "def run_train(train_set):\n",
    "    # パラメータの初期値とbias項の設定\n",
    "    w0 = w1 = w2 = 0.0\n",
    "    bias = 0.5 * (train_set.x.mean() + train_set.y.mean())\n",
    "\n",
    "    # Iterationを実施\n",
    "    paramhist = DataFrame([[w0,w1,w2]], columns=['w0','w1','w2'])\n",
    "    for i in range(30):\n",
    "        for index, point in train_set.iterrows():\n",
    "            x, y, type = point.x, point.y, point.type\n",
    "            if type * (w0*bias + w1*x + w2*y) <= 0:\n",
    "                w0 += type * 1 \n",
    "                w1 += type * x\n",
    "                w2 += type * y\n",
    "        paramhist = paramhist.append(Series([w0,w1,w2], ['w0','w1','w2']),\n",
    "                                     ignore_index=True)\n",
    "    \n",
    "    # 判定誤差の計算\n",
    "    err = 0\n",
    "    for index, point in train_set.iterrows():\n",
    "        x, y, type = point.x, point.y, point.type\n",
    "        if type * (w0*bias + w1*x + w2*y) <= 0:\n",
    "            err += 1\n",
    "    err_rate = err * 100 / len(train_set)\n",
    "    \n",
    "    return paramhist, err_rate"
   ]
  },
  {
   "cell_type": "markdown",
   "metadata": {},
   "source": [
    "トレーニングを実施する。"
   ]
  },
  {
   "cell_type": "code",
   "execution_count": 6,
   "metadata": {
    "collapsed": true
   },
   "outputs": [],
   "source": [
    "paramhist, err_rate = run_train(train_set)"
   ]
  },
  {
   "cell_type": "markdown",
   "metadata": {},
   "source": [
    "パラメーターの変化の先頭部分を確認する。"
   ]
  },
  {
   "cell_type": "code",
   "execution_count": 7,
   "metadata": {
    "collapsed": false
   },
   "outputs": [
    {
     "data": {
      "text/html": [
       "<div>\n",
       "<table border=\"1\" class=\"dataframe\">\n",
       "  <thead>\n",
       "    <tr style=\"text-align: right;\">\n",
       "      <th></th>\n",
       "      <th>w0</th>\n",
       "      <th>w1</th>\n",
       "      <th>w2</th>\n",
       "    </tr>\n",
       "  </thead>\n",
       "  <tbody>\n",
       "    <tr>\n",
       "      <th>0</th>\n",
       "      <td>0</td>\n",
       "      <td>0.000000</td>\n",
       "      <td>0.000000</td>\n",
       "    </tr>\n",
       "    <tr>\n",
       "      <th>1</th>\n",
       "      <td>-4</td>\n",
       "      <td>2.636836</td>\n",
       "      <td>1.043591</td>\n",
       "    </tr>\n",
       "    <tr>\n",
       "      <th>2</th>\n",
       "      <td>-6</td>\n",
       "      <td>4.566316</td>\n",
       "      <td>0.085247</td>\n",
       "    </tr>\n",
       "    <tr>\n",
       "      <th>3</th>\n",
       "      <td>-11</td>\n",
       "      <td>5.502693</td>\n",
       "      <td>8.741385</td>\n",
       "    </tr>\n",
       "    <tr>\n",
       "      <th>4</th>\n",
       "      <td>-12</td>\n",
       "      <td>4.770595</td>\n",
       "      <td>8.660399</td>\n",
       "    </tr>\n",
       "  </tbody>\n",
       "</table>\n",
       "</div>"
      ],
      "text/plain": [
       "   w0        w1        w2\n",
       "0   0  0.000000  0.000000\n",
       "1  -4  2.636836  1.043591\n",
       "2  -6  4.566316  0.085247\n",
       "3 -11  5.502693  8.741385\n",
       "4 -12  4.770595  8.660399"
      ]
     },
     "execution_count": 7,
     "metadata": {},
     "output_type": "execute_result"
    }
   ],
   "source": [
    "paramhist[:5]"
   ]
  },
  {
   "cell_type": "markdown",
   "metadata": {},
   "source": [
    "分類結果をグラフに可視化する関数を用意する。"
   ]
  },
  {
   "cell_type": "code",
   "execution_count": 8,
   "metadata": {
    "collapsed": true
   },
   "outputs": [],
   "source": [
    "# 結果の表示\n",
    "def show_result(subplot, train_set, w0, w1, w2, err_rate):\n",
    "    train_set1 = train_set[train_set['type']==1]\n",
    "    train_set2 = train_set[train_set['type']==-1]\n",
    "    bias = 0.5 * (train_set.x.mean() + train_set.y.mean())\n",
    "    ymin, ymax = train_set.y.min()-5, train_set.y.max()+10\n",
    "    xmin, xmax = train_set.x.min()-5, train_set.x.max()+10\n",
    "\n",
    "    subplot.set_ylim([ymin-1, ymax+1])\n",
    "    subplot.set_xlim([xmin-1, xmax+1])\n",
    "    subplot.scatter(train_set1.x, train_set1.y, marker='o', label=None)\n",
    "    subplot.scatter(train_set2.x, train_set2.y, marker='x', label=None)\n",
    "\n",
    "    linex = np.arange(xmin-5, xmax+5)\n",
    "    liney = - linex * w1 / w2 - bias * w0 / w2\n",
    "    label = \"ERR %.2f%%\" % err_rate\n",
    "    subplot.plot(linex, liney, label=label, color='red')\n",
    "    subplot.legend(loc=1)"
   ]
  },
  {
   "cell_type": "markdown",
   "metadata": {},
   "source": [
    "分類結果をグラフに表示する。"
   ]
  },
  {
   "cell_type": "code",
   "execution_count": 9,
   "metadata": {
    "collapsed": false
   },
   "outputs": [
    {
     "data": {
      "image/png": "[encoded data removed]",
      "text/plain": [
       "<matplotlib.figure.Figure at 0x660a530>"
      ]
     },
     "metadata": {},
     "output_type": "display_data"
    }
   ],
   "source": [
    "fig = plt.figure()\n",
    "subplot = fig.add_subplot(1,1,1)\n",
    "params = paramhist[-1:]\n",
    "w0, w1, w2 = float(params.w0), float(params.w1), float(params.w2)\n",
    "show_result(subplot, train_set, w0, w1, w2, err_rate)"
   ]
  },
  {
   "cell_type": "markdown",
   "metadata": {},
   "source": [
    "同じくパラメーターの変化の様子をグラフに表示する。"
   ]
  },
  {
   "cell_type": "code",
   "execution_count": 10,
   "metadata": {
    "collapsed": false
   },
   "outputs": [
    {
     "data": {
      "text/plain": [
       "<matplotlib.legend.Legend at 0x6abcc10>"
      ]
     },
     "execution_count": 10,
     "metadata": {},
     "output_type": "execute_result"
    },
    {
     "data": {
      "image/png": "[encoded data removed]",
      "text/plain": [
       "<matplotlib.figure.Figure at 0x6abc830>"
      ]
     },
     "metadata": {},
     "output_type": "display_data"
    }
   ],
   "source": [
    "paramhist.plot().legend(loc=1)"
   ]
  },
  {
   "cell_type": "markdown",
   "metadata": {},
   "source": [
    "#### 分類が困難なトレーニングセットの場合\n",
    "先程よりも分散が大きく、分類な困難なトレーニングセットを用意する。"
   ]
  },
  {
   "cell_type": "code",
   "execution_count": 11,
   "metadata": {
    "collapsed": true
   },
   "outputs": [],
   "source": [
    "train_set = prepare_dataset(20, [15,10], 30, 30, [0,0], 30)"
   ]
  },
  {
   "cell_type": "markdown",
   "metadata": {},
   "source": [
    "トレーニングを実施して、結果をグラフに表示する。"
   ]
  },
  {
   "cell_type": "code",
   "execution_count": 12,
   "metadata": {
    "collapsed": false
   },
   "outputs": [
    {
     "data": {
      "image/png": "[encoded data removed]",
      "text/plain": [
       "<matplotlib.figure.Figure at 0x6b9c870>"
      ]
     },
     "metadata": {},
     "output_type": "display_data"
    }
   ],
   "source": [
    "paramhist, err_rate = run_train(train_set)\n",
    "fig = plt.figure()\n",
    "subplot = fig.add_subplot(1,1,1)\n",
    "params = paramhist[-1:]\n",
    "w0, w1, w2 = float(params.w0), float(params.w1), float(params.w2)\n",
    "show_result(subplot, train_set, w0, w1, w2, err_rate)"
   ]
  },
  {
   "cell_type": "markdown",
   "metadata": {},
   "source": [
    "同じく、パラメーターの変化をグラフに表示する。"
   ]
  },
  {
   "cell_type": "code",
   "execution_count": 13,
   "metadata": {
    "collapsed": false
   },
   "outputs": [
    {
     "data": {
      "text/plain": [
       "<matplotlib.legend.Legend at 0x6b97170>"
      ]
     },
     "execution_count": 13,
     "metadata": {},
     "output_type": "execute_result"
    },
    {
     "data": {
      "image/png": "[encoded data removed]",
      "text/plain": [
       "<matplotlib.figure.Figure at 0x6bac430>"
      ]
     },
     "metadata": {},
     "output_type": "display_data"
    }
   ],
   "source": [
    "paramhist.plot().legend(loc=1)"
   ]
  },
  {
   "cell_type": "markdown",
   "metadata": {},
   "source": [
    "## 4.2 パーセプトロンの幾何学的な解釈\n",
    "ここでは、確率的勾配降下法の「**収束速度**」について考える。  \n",
    "\n",
    "データを完全に分割する直線が存在する場合、パラメーター$w$を更新していくと、いつかはその直線にたどり着く。  \n",
    "しかし、具体的に何回ぐらい更新すればよいのかは分からない。  \n",
    "30回、300回、あるいは3万回繰り返さないと正解にたどり着かない可能性もある。  \n",
    "このように、パラメーターを繰り返し更新するアルゴリズムにおいて、どの程度すばやく正解にたどり着けるかという早さを「**アルゴリズムの収束性**」と呼ぶ。  \n",
    "\n",
    "### 4.2.1 バイアス項の任意性とアルゴリズムの収束性\n",
    "$(x,y)$平面を直線で分割するための関数$f(x,y)$は以下のように定義することが可能。\n",
    "\n",
    "\\begin{eqnarray}\n",
    "\\\\\n",
    "f(x,y) = 2w_0 + w_1x + w_2y\n",
    "\\\\\n",
    "\\end{eqnarray}\n",
    "\n",
    "この場合、誤差関数$E$は以下のように表される。\n",
    "\n",
    "\\begin{eqnarray}\n",
    "\\\\\n",
    "E = -\\sum_n t_n w^{T} \\Phi_n\n",
    "\\\\\n",
    "\\end{eqnarray}\n",
    "\n",
    "\\begin{eqnarray}\n",
    "\\\\\n",
    "  w = \\left(\n",
    "    \\begin{array}{c}\n",
    "      w_0 \\\\\n",
    "      w_1 \\\\\n",
    "      w_2\n",
    "    \\end{array}\n",
    "  \\right)\n",
    "\\\\\n",
    "\\end{eqnarray}\n",
    "\n",
    "\\begin{eqnarray}\n",
    "\\\\\n",
    "  \\Phi_n = \\left(\n",
    "    \\begin{array}{c}\n",
    "      2 \\\\\n",
    "      x_n \\\\\n",
    "      y_n\n",
    "    \\end{array}\n",
    "  \\right)\n",
    "\\\\\n",
    "\\end{eqnarray}\n",
    "\n",
    "ベクトル$\\Phi_n$のバイアス項が2になっている点がこれまでと異なるが、誤差関数の形は変わっていない。  \n",
    "よって、先ほどと同じ議論を繰り返すことで、まったく同じ確率的勾配降下法の手続きが得られる。  \n",
    "\n",
    "\\begin{eqnarray}\n",
    "\\\\\n",
    "w_{new} = w_{old} + t_n \\Phi_n\n",
    "\\\\\n",
    "\\end{eqnarray}\n",
    "\n",
    "ただし、ベクトル$\\Phi_n$はバイアス項を2にしたものを使うため、上記式を使って$w$を更新すると、$w_0$は$\\pm2$だけ変化する。  \n",
    "つまり、バイアス項の値を適切に選ぶことで、アルゴリズムの収束速度を改善することが可能になる。  \n",
    "\n",
    "![誤差関数E](func_E_3.png)"
   ]
  }
 ],
 "metadata": {
  "kernelspec": {
   "display_name": "Python 3",
   "language": "python",
   "name": "python3"
  },
  "language_info": {
   "codemirror_mode": {
    "name": "ipython",
    "version": 3
   },
   "file_extension": ".py",
   "mimetype": "text/x-python",
   "name": "python",
   "nbconvert_exporter": "python",
   "pygments_lexer": "ipython3",
   "version": "3.4.3"
  }
 },
 "nbformat": 4,
 "nbformat_minor": 0
}
